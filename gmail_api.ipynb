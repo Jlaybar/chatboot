{
 "cells": [
  {
   "cell_type": "markdown",
   "metadata": {},
   "source": [
    "# Gmail API - Jupyter Notebook\n",
    "Envío y gestión de correos usando Gmail API desde Jupyter Notebook"
   ]
  },
  {
   "cell_type": "markdown",
   "metadata": {},
   "source": [
    "## 1. Instalación de dependencias"
   ]
  },
  {
   "cell_type": "code",
   "execution_count": 3,
   "metadata": {},
   "outputs": [
    {
     "name": "stdout",
     "output_type": "stream",
     "text": [
      "Collecting google-auth-oauthlib\n",
      "  Using cached google_auth_oauthlib-1.2.2-py3-none-any.whl.metadata (2.7 kB)\n",
      "Collecting google-auth-httplib2\n",
      "  Using cached google_auth_httplib2-0.2.0-py2.py3-none-any.whl.metadata (2.2 kB)\n",
      "Collecting google-api-python-client\n",
      "  Using cached google_api_python_client-2.185.0-py3-none-any.whl.metadata (7.0 kB)\n",
      "Requirement already satisfied: python-dotenv in c:\\users\\jaime.lopez\\appdata\\local\\anaconda3\\lib\\site-packages (1.0.0)\n",
      "Collecting google-auth>=2.15.0 (from google-auth-oauthlib)\n",
      "  Using cached google_auth-2.41.1-py2.py3-none-any.whl.metadata (6.6 kB)\n",
      "Requirement already satisfied: requests-oauthlib>=0.7.0 in c:\\users\\jaime.lopez\\appdata\\local\\anaconda3\\lib\\site-packages (from google-auth-oauthlib) (2.0.0)\n",
      "Collecting httplib2>=0.19.0 (from google-auth-httplib2)\n",
      "  Using cached httplib2-0.31.0-py3-none-any.whl.metadata (2.2 kB)\n",
      "Collecting google-api-core!=2.0.*,!=2.1.*,!=2.2.*,!=2.3.0,<3.0.0,>=1.31.5 (from google-api-python-client)\n",
      "  Using cached google_api_core-2.27.0-py3-none-any.whl.metadata (3.2 kB)\n",
      "Collecting uritemplate<5,>=3.0.1 (from google-api-python-client)\n",
      "  Using cached uritemplate-4.2.0-py3-none-any.whl.metadata (2.6 kB)\n",
      "Collecting googleapis-common-protos<2.0.0,>=1.56.2 (from google-api-core!=2.0.*,!=2.1.*,!=2.2.*,!=2.3.0,<3.0.0,>=1.31.5->google-api-python-client)\n",
      "  Using cached googleapis_common_protos-1.71.0-py3-none-any.whl.metadata (9.4 kB)\n",
      "Requirement already satisfied: protobuf!=3.20.0,!=3.20.1,!=4.21.0,!=4.21.1,!=4.21.2,!=4.21.3,!=4.21.4,!=4.21.5,<7.0.0,>=3.19.5 in c:\\users\\jaime.lopez\\appdata\\local\\anaconda3\\lib\\site-packages (from google-api-core!=2.0.*,!=2.1.*,!=2.2.*,!=2.3.0,<3.0.0,>=1.31.5->google-api-python-client) (3.20.3)\n",
      "Collecting proto-plus<2.0.0,>=1.22.3 (from google-api-core!=2.0.*,!=2.1.*,!=2.2.*,!=2.3.0,<3.0.0,>=1.31.5->google-api-python-client)\n",
      "  Using cached proto_plus-1.26.1-py3-none-any.whl.metadata (2.2 kB)\n",
      "Requirement already satisfied: requests<3.0.0,>=2.18.0 in c:\\users\\jaime.lopez\\appdata\\local\\anaconda3\\lib\\site-packages (from google-api-core!=2.0.*,!=2.1.*,!=2.2.*,!=2.3.0,<3.0.0,>=1.31.5->google-api-python-client) (2.32.3)\n",
      "Requirement already satisfied: cachetools<7.0,>=2.0.0 in c:\\users\\jaime.lopez\\appdata\\local\\anaconda3\\lib\\site-packages (from google-auth>=2.15.0->google-auth-oauthlib) (4.2.2)\n",
      "Requirement already satisfied: pyasn1-modules>=0.2.1 in c:\\users\\jaime.lopez\\appdata\\local\\anaconda3\\lib\\site-packages (from google-auth>=2.15.0->google-auth-oauthlib) (0.2.8)\n",
      "Collecting rsa<5,>=3.1.4 (from google-auth>=2.15.0->google-auth-oauthlib)\n",
      "  Using cached rsa-4.9.1-py3-none-any.whl.metadata (5.6 kB)\n",
      "Requirement already satisfied: pyparsing<4,>=3.0.4 in c:\\users\\jaime.lopez\\appdata\\local\\anaconda3\\lib\\site-packages (from httplib2>=0.19.0->google-auth-httplib2) (3.0.9)\n",
      "Requirement already satisfied: oauthlib>=3.0.0 in c:\\users\\jaime.lopez\\appdata\\local\\anaconda3\\lib\\site-packages (from requests-oauthlib>=0.7.0->google-auth-oauthlib) (3.2.2)\n",
      "Requirement already satisfied: pyasn1<0.5.0,>=0.4.6 in c:\\users\\jaime.lopez\\appdata\\local\\anaconda3\\lib\\site-packages (from pyasn1-modules>=0.2.1->google-auth>=2.15.0->google-auth-oauthlib) (0.4.8)\n",
      "Requirement already satisfied: charset-normalizer<4,>=2 in c:\\users\\jaime.lopez\\appdata\\local\\anaconda3\\lib\\site-packages (from requests<3.0.0,>=2.18.0->google-api-core!=2.0.*,!=2.1.*,!=2.2.*,!=2.3.0,<3.0.0,>=1.31.5->google-api-python-client) (2.0.4)\n",
      "Requirement already satisfied: idna<4,>=2.5 in c:\\users\\jaime.lopez\\appdata\\local\\anaconda3\\lib\\site-packages (from requests<3.0.0,>=2.18.0->google-api-core!=2.0.*,!=2.1.*,!=2.2.*,!=2.3.0,<3.0.0,>=1.31.5->google-api-python-client) (3.4)\n",
      "Requirement already satisfied: urllib3<3,>=1.21.1 in c:\\users\\jaime.lopez\\appdata\\local\\anaconda3\\lib\\site-packages (from requests<3.0.0,>=2.18.0->google-api-core!=2.0.*,!=2.1.*,!=2.2.*,!=2.3.0,<3.0.0,>=1.31.5->google-api-python-client) (2.0.7)\n",
      "Requirement already satisfied: certifi>=2017.4.17 in c:\\users\\jaime.lopez\\appdata\\local\\anaconda3\\lib\\site-packages (from requests<3.0.0,>=2.18.0->google-api-core!=2.0.*,!=2.1.*,!=2.2.*,!=2.3.0,<3.0.0,>=1.31.5->google-api-python-client) (2024.12.14)\n",
      "Using cached google_auth_oauthlib-1.2.2-py3-none-any.whl (19 kB)\n",
      "Using cached google_auth_httplib2-0.2.0-py2.py3-none-any.whl (9.3 kB)\n",
      "Using cached google_api_python_client-2.185.0-py3-none-any.whl (14.5 MB)\n",
      "Using cached google_api_core-2.27.0-py3-none-any.whl (167 kB)\n",
      "Using cached google_auth-2.41.1-py2.py3-none-any.whl (221 kB)\n",
      "Using cached httplib2-0.31.0-py3-none-any.whl (91 kB)\n",
      "Using cached uritemplate-4.2.0-py3-none-any.whl (11 kB)\n",
      "Using cached googleapis_common_protos-1.71.0-py3-none-any.whl (294 kB)\n",
      "Using cached proto_plus-1.26.1-py3-none-any.whl (50 kB)\n",
      "Using cached rsa-4.9.1-py3-none-any.whl (34 kB)\n",
      "Installing collected packages: uritemplate, rsa, proto-plus, httplib2, googleapis-common-protos, google-auth, google-auth-oauthlib, google-auth-httplib2, google-api-core, google-api-python-client\n",
      "Successfully installed google-api-core-2.27.0 google-api-python-client-2.185.0 google-auth-2.41.1 google-auth-httplib2-0.2.0 google-auth-oauthlib-1.2.2 googleapis-common-protos-1.71.0 httplib2-0.31.0 proto-plus-1.26.1 rsa-4.9.1 uritemplate-4.2.0\n"
     ]
    }
   ],
   "source": [
    "!pip install google-auth-oauthlib google-auth-httplib2 google-api-python-client python-dotenv"
   ]
  },
  {
   "cell_type": "markdown",
   "metadata": {},
   "source": [
    "## 2. Configuración e imports"
   ]
  },
  {
   "cell_type": "code",
   "execution_count": 4,
   "metadata": {},
   "outputs": [
    {
     "name": "stdout",
     "output_type": "stream",
     "text": [
      "✅ Módulos importados y configuración cargada\n"
     ]
    }
   ],
   "source": [
    "import os\n",
    "import base64\n",
    "import json\n",
    "from email.mime.text import MIMEText\n",
    "from google.auth.transport.requests import Request\n",
    "from google.oauth2.credentials import Credentials\n",
    "from google_auth_oauthlib.flow import InstalledAppFlow\n",
    "from googleapiclient.discovery import build\n",
    "from googleapiclient.errors import HttpError\n",
    "from dotenv import load_dotenv\n",
    "\n",
    "# Cargar variables de entorno\n",
    "load_dotenv()\n",
    "\n",
    "# Scopes de la API\n",
    "SCOPES = [\n",
    "    'https://www.googleapis.com/auth/gmail.send',\n",
    "    'https://www.googleapis.com/auth/gmail.readonly'\n",
    "]\n",
    "\n",
    "print(\"✅ Módulos importados y configuración cargada\")"
   ]
  },
  {
   "cell_type": "markdown",
   "metadata": {},
   "source": [
    "## 3. Función de autenticación"
   ]
  },
  {
   "cell_type": "code",
   "execution_count": 5,
   "metadata": {},
   "outputs": [
    {
     "name": "stdout",
     "output_type": "stream",
     "text": [
      "✅ Función de autenticación definida\n"
     ]
    }
   ],
   "source": [
    "def get_gmail_service():\n",
    "    \"\"\"Obtiene el servicio de Gmail autenticado\"\"\"\n",
    "    creds = None\n",
    "    \n",
    "    # Verificar variables de entorno requeridas\n",
    "    required_vars = ['GOOGLE_CLIENT_ID', 'GOOGLE_CLIENT_SECRET', 'GMAIL_REFRESH_TOKEN']\n",
    "    for var in required_vars:\n",
    "        if not os.getenv(var):\n",
    "            print(f\"❌ Falta variable de entorno: {var}\")\n",
    "            return None\n",
    "    \n",
    "    # El archivo token.json almacena los tokens de acceso y actualización\n",
    "    if os.path.exists('token.json'):\n",
    "        creds = Credentials.from_authorized_user_file('token.json', SCOPES)\n",
    "    \n",
    "    # Si no hay credenciales válidas, usa el refresh token\n",
    "    if not creds or not creds.valid:\n",
    "        if creds and creds.expired and creds.refresh_token:\n",
    "            creds.refresh(Request())\n",
    "        else:\n",
    "            # Usar refresh token desde variables de entorno\n",
    "            refresh_token = os.getenv('GMAIL_REFRESH_TOKEN')\n",
    "            client_id = os.getenv('GOOGLE_CLIENT_ID')\n",
    "            client_secret = os.getenv('GOOGLE_CLIENT_SECRET')\n",
    "            \n",
    "            creds = Credentials(\n",
    "                token=None,\n",
    "                refresh_token=refresh_token,\n",
    "                token_uri='https://oauth2.googleapis.com/token',\n",
    "                client_id=client_id,\n",
    "                client_secret=client_secret,\n",
    "                scopes=SCOPES\n",
    "            )\n",
    "            # Refrescar el token\n",
    "            creds.refresh(Request())\n",
    "        \n",
    "        # Guardar credenciales para próxima vez\n",
    "        with open('token.json', 'w') as token:\n",
    "            token.write(creds.to_json())\n",
    "    \n",
    "    return build('gmail', 'v1', credentials=creds)\n",
    "\n",
    "print(\"✅ Función de autenticación definida\")"
   ]
  },
  {
   "cell_type": "markdown",
   "metadata": {},
   "source": [
    "## 4. Funciones auxiliares"
   ]
  },
  {
   "cell_type": "code",
   "execution_count": 6,
   "metadata": {},
   "outputs": [
    {
     "name": "stdout",
     "output_type": "stream",
     "text": [
      "✅ Funciones auxiliares definidas\n"
     ]
    }
   ],
   "source": [
    "def create_message(to, subject, body):\n",
    "    \"\"\"Crea un mensaje MIME para enviar\"\"\"\n",
    "    message = MIMEText(body, 'plain', 'utf-8')\n",
    "    message['to'] = to\n",
    "    message['subject'] = subject\n",
    "    return {\n",
    "        'raw': base64.urlsafe_b64encode(\n",
    "            message.as_bytes()\n",
    "        ).decode('ascii')\n",
    "    }\n",
    "\n",
    "def decode_message_body(data):\n",
    "    \"\"\"Decodifica el cuerpo del mensaje desde base64\"\"\"\n",
    "    if 'data' in data:\n",
    "        return base64.urlsafe_b64decode(data['data']).decode('utf-8')\n",
    "    return ''\n",
    "\n",
    "def get_message_text_parts(parts):\n",
    "    \"\"\"Extrae el texto de las partes del mensaje\"\"\"\n",
    "    text_parts = []\n",
    "    for part in parts:\n",
    "        if part['mimeType'] == 'text/plain':\n",
    "            text_parts.append(decode_message_body(part['body']))\n",
    "        elif part['mimeType'] == 'text/html':\n",
    "            text_parts.append(decode_message_body(part['body']))\n",
    "        elif 'parts' in part:\n",
    "            # Mensajes multipart\n",
    "            text_parts.extend(get_message_text_parts(part['parts']))\n",
    "    return text_parts\n",
    "\n",
    "print(\"✅ Funciones auxiliares definidas\")"
   ]
  },
  {
   "cell_type": "markdown",
   "metadata": {},
   "source": [
    "## 5. Función para enviar correos"
   ]
  },
  {
   "cell_type": "code",
   "execution_count": 7,
   "metadata": {},
   "outputs": [
    {
     "name": "stdout",
     "output_type": "stream",
     "text": [
      "✅ Función de envío definida\n"
     ]
    }
   ],
   "source": [
    "def send_email(to=None, subject=None, body=None):\n",
    "    \"\"\"Envía un correo usando Gmail API\"\"\"\n",
    "    try:\n",
    "        service = get_gmail_service()\n",
    "        if not service:\n",
    "            print(\"❌ No se pudo obtener el servicio de Gmail\")\n",
    "            return None\n",
    "        \n",
    "        # Valores por defecto\n",
    "        to = to or os.getenv('GMAIL_TO', 'jlaybar@gmail.com')\n",
    "        subject = subject or os.getenv('GMAIL_SUBJECT', 'Prueba desde Jupyter Notebook')\n",
    "        body = body or os.getenv('GMAIL_BODY', 'Hola! 👋 Este correo fue enviado desde Jupyter Notebook usando la API de Gmail.')\n",
    "        \n",
    "        # Crear y enviar mensaje\n",
    "        message = create_message(to, subject, body)\n",
    "        result = service.users().messages().send(\n",
    "            userId='me', \n",
    "            body=message\n",
    "        ).execute()\n",
    "        \n",
    "        print(f'✅ Correo enviado exitosamente!')\n",
    "        print(f'   ID: {result[\"id\"]}')\n",
    "        print(f'   Para: {to}')\n",
    "        print(f'   Asunto: {subject}')\n",
    "        \n",
    "        return result\n",
    "        \n",
    "    except HttpError as err:\n",
    "        error_detail = err.content.decode('utf-8') if err.content else str(err)\n",
    "        print(f'❌ Error enviando correo: {error_detail}')\n",
    "        return None\n",
    "    except Exception as err:\n",
    "        print(f'❌ Error inesperado: {str(err)}')\n",
    "        return None\n",
    "\n",
    "print(\"✅ Función de envío definida\")"
   ]
  },
  {
   "cell_type": "markdown",
   "metadata": {},
   "source": [
    "## 6. Función para listar mensajes"
   ]
  },
  {
   "cell_type": "code",
   "execution_count": 8,
   "metadata": {},
   "outputs": [
    {
     "name": "stdout",
     "output_type": "stream",
     "text": [
      "✅ Función para listar mensajes definida\n"
     ]
    }
   ],
   "source": [
    "def list_messages(max_results=10, label_ids='INBOX'):\n",
    "    \"\"\"Lista los últimos mensajes del buzón\"\"\"\n",
    "    try:\n",
    "        service = get_gmail_service()\n",
    "        if not service:\n",
    "            print(\"❌ No se pudo obtener el servicio de Gmail\")\n",
    "            return None\n",
    "        \n",
    "        # Obtener lista de mensajes\n",
    "        result = service.users().messages().list(\n",
    "            userId='me',\n",
    "            maxResults=max_results,\n",
    "            labelIds=label_ids\n",
    "        ).execute()\n",
    "        \n",
    "        messages = result.get('messages', [])\n",
    "        messages_list = []\n",
    "        \n",
    "        print(f\"📧 Obteniendo detalles de {len(messages)} mensajes...\")\n",
    "        \n",
    "        # Obtener detalles de cada mensaje\n",
    "        for i, msg in enumerate(messages):\n",
    "            print(f\"   Procesando mensaje {i+1}/{len(messages)}...\")\n",
    "            \n",
    "            message_detail = service.users().messages().get(\n",
    "                userId='me', \n",
    "                id=msg['id'],\n",
    "                format='metadata',\n",
    "                metadataHeaders=['Subject', 'From', 'Date']\n",
    "            ).execute()\n",
    "            \n",
    "            # Extraer headers importantes\n",
    "            headers = {h['name']: h['value'] for h in message_detail.get('payload', {}).get('headers', [])}\n",
    "            \n",
    "            messages_list.append({\n",
    "                'id': msg['id'],\n",
    "                'threadId': msg.get('threadId'),\n",
    "                'snippet': message_detail.get('snippet', ''),\n",
    "                'subject': headers.get('Subject', ''),\n",
    "                'from': headers.get('From', ''),\n",
    "                'date': headers.get('Date', ''),\n",
    "                'labelIds': message_detail.get('labelIds', [])\n",
    "            })\n",
    "        \n",
    "        print(f\"✅ Se obtuvieron {len(messages_list)} mensajes\")\n",
    "        return messages_list\n",
    "        \n",
    "    except HttpError as err:\n",
    "        print(f'❌ Error de Gmail API: {err}')\n",
    "        return None\n",
    "    except Exception as err:\n",
    "        print(f'❌ Error inesperado: {str(err)}')\n",
    "        return None\n",
    "\n",
    "print(\"✅ Función para listar mensajes definida\")"
   ]
  },
  {
   "cell_type": "markdown",
   "metadata": {},
   "source": [
    "## 7. Función para obtener mensaje específico"
   ]
  },
  {
   "cell_type": "code",
   "execution_count": 11,
   "metadata": {},
   "outputs": [
    {
     "name": "stdout",
     "output_type": "stream",
     "text": [
      "✅ Función para obtener mensaje definida\n"
     ]
    }
   ],
   "source": [
    "def get_message_details(message_id):\n",
    "    \"\"\"Obtiene el cuerpo completo de un mensaje específico\"\"\"\n",
    "    try:\n",
    "        service = get_gmail_service()\n",
    "        if not service:\n",
    "            print(\"❌ No se pudo obtener el servicio de Gmail\")\n",
    "            return None\n",
    "        \n",
    "        # Obtener mensaje completo\n",
    "        message = service.users().messages().get(\n",
    "            userId='me', \n",
    "            id=message_id,\n",
    "            format='full'\n",
    "        ).execute()\n",
    "        \n",
    "        # Extraer headers\n",
    "        headers = {h['name']: h['value'] for h in message.get('payload', {}).get('headers', [])}\n",
    "        \n",
    "        # Extraer cuerpo del mensaje\n",
    "        body_text = ''\n",
    "        payload = message.get('payload', {})\n",
    "        \n",
    "        if 'parts' in payload:\n",
    "            # Mensaje multipart\n",
    "            text_parts = get_message_text_parts(payload['parts'])\n",
    "            body_text = ''.join(text_parts)\n",
    "        elif 'body' in payload and 'data' in payload['body']:\n",
    "            # Mensaje simple\n",
    "            body_text = decode_message_body(payload['body'])\n",
    "        \n",
    "        message_details = {\n",
    "            'id': message['id'],\n",
    "            'threadId': message.get('threadId'),\n",
    "            'snippet': message.get('snippet', ''),\n",
    "            'subject': headers.get('Subject', ''),\n",
    "            'from': headers.get('From', ''),\n",
    "            'to': headers.get('To', ''),\n",
    "            'date': headers.get('Date', ''),\n",
    "            'body': body_text,\n",
    "            'labelIds': message.get('labelIds', [])\n",
    "        }\n",
    "        \n",
    "        print(f\"✅ Mensaje obtenido exitosamente\")\n",
    "        return message_details\n",
    "        \n",
    "    except HttpError as err:\n",
    "        print(f'❌ Error de Gmail API: {err}')\n",
    "        return None\n",
    "    except Exception as err:\n",
    "        print(f'❌ Error inesperado: {str(err)}')\n",
    "        return None\n",
    "\n",
    "print(\"✅ Función para obtener mensaje definida\")"
   ]
  },
  {
   "cell_type": "markdown",
   "metadata": {},
   "source": [
    "## 8. Ejemplos de uso"
   ]
  },
  {
   "cell_type": "markdown",
   "metadata": {},
   "source": [
    "### 8.1 Enviar un correo de prueba"
   ]
  },
  {
   "cell_type": "code",
   "execution_count": 12,
   "metadata": {},
   "outputs": [
    {
     "name": "stdout",
     "output_type": "stream",
     "text": [
      "✅ Correo enviado exitosamente!\n",
      "   ID: 19a1083467f3ac88\n",
      "   Para: jlaybar@gmail.com\n",
      "   Asunto: Prueba desde Jupyter Notebook\n",
      "Correo enviado con éxito!\n"
     ]
    }
   ],
   "source": [
    "# Enviar correo de prueba\n",
    "result = send_email(\n",
    "    to=\"jlaybar@gmail.com\",  # Cambia por un email real\n",
    "    subject=\"Prueba desde Jupyter Notebook\",\n",
    "    body=\"¡Hola3! Este es un correo de prueba enviado desde Jupyter Notebook usando Gmail API.\"\n",
    ")\n",
    "\n",
    "if result:\n",
    "    print(\"Correo enviado con éxito!\")\n",
    "else:\n",
    "    print(\"Error al enviar el correo\")"
   ]
  },
  {
   "cell_type": "markdown",
   "metadata": {},
   "source": [
    "### 8.2 Listar últimos mensajes"
   ]
  },
  {
   "cell_type": "code",
   "execution_count": 13,
   "metadata": {},
   "outputs": [
    {
     "name": "stdout",
     "output_type": "stream",
     "text": [
      "📧 Obteniendo detalles de 5 mensajes...\n",
      "   Procesando mensaje 1/5...\n",
      "   Procesando mensaje 2/5...\n",
      "   Procesando mensaje 3/5...\n",
      "   Procesando mensaje 4/5...\n",
      "   Procesando mensaje 5/5...\n",
      "✅ Se obtuvieron 5 mensajes\n",
      "\n",
      "📬 Últimos mensajes:\n",
      "--------------------------------------------------------------------------------\n",
      "1. De: jlaybar@gmail.com\n",
      "   Asunto: \n",
      "   Fecha: Thu, 23 Oct 2025 05:00:30 -0500\n",
      "   ID: 19a1083467f3ac88\n",
      "   Snippet: ¡Hola3! Este es un correo de prueba enviado desde Jupyter Notebook usando Gmail API....\n",
      "--------------------------------------------------------------------------------\n",
      "2. De: jlaybar@gmail.com\n",
      "   Asunto: \n",
      "   Fecha: Thu, 23 Oct 2025 04:37:46 -0500\n",
      "   ID: 19a106e77a27296f\n",
      "   Snippet: Este es el cuerpo del correo enviado desde la aplicación FastAPI con OAuth2 y Gmail API....\n",
      "--------------------------------------------------------------------------------\n",
      "3. De: jlaybar@gmail.com\n",
      "   Asunto: \n",
      "   Fecha: Thu, 23 Oct 2025 04:37:09 -0500\n",
      "   ID: 19a106de4d7e9439\n",
      "   Snippet: Este es el cuerpo del correo enviado desde la aplicación FastAPI con OAuth2 y Gmail API....\n",
      "--------------------------------------------------------------------------------\n",
      "4. De: Revolut <no-reply@revolut.com>\n",
      "   Asunto: Recibe 60 € por cada persona que se una a Revolut\n",
      "   Fecha: Thu, 23 Oct 2025 06:56:34 +0000\n",
      "   ID: 19a0fdae420b4579\n",
      "   Snippet: ¿Quieres llevarte 60 €? Invita amigos a Revolut y llévate una recompensa por cada uno que se registr...\n",
      "--------------------------------------------------------------------------------\n",
      "5. De: Perplexity <team@mail.perplexity.ai>\n",
      "   Asunto: Mañana puede expirar tu acceso gratuito a Comet\n",
      "   Fecha: Thu, 23 Oct 2025 06:25:58 +0000\n",
      "   ID: 19a0fbedfc009293\n",
      "   Snippet: Última oportunidad para reclamar el navegador que funciona para ti ͏​ ͏​ ͏​ ͏​ ͏​ ͏​ ͏​ ͏​ ͏​ ͏​ ͏​ ...\n",
      "--------------------------------------------------------------------------------\n"
     ]
    }
   ],
   "source": [
    "# Listar últimos 5 mensajes\n",
    "messages = list_messages(max_results=5)\n",
    "\n",
    "if messages:\n",
    "    print(\"\\n📬 Últimos mensajes:\")\n",
    "    print(\"-\" * 80)\n",
    "    for i, msg in enumerate(messages):\n",
    "        print(f\"{i+1}. De: {msg['from']}\")\n",
    "        print(f\"   Asunto: {msg['subject']}\")\n",
    "        print(f\"   Fecha: {msg['date']}\")\n",
    "        print(f\"   ID: {msg['id']}\")\n",
    "        print(f\"   Snippet: {msg['snippet'][:100]}...\")\n",
    "        print(\"-\" * 80)"
   ]
  },
  {
   "cell_type": "markdown",
   "metadata": {},
   "source": [
    "### 8.3 Obtener mensaje específico"
   ]
  },
  {
   "cell_type": "code",
   "execution_count": null,
   "metadata": {},
   "outputs": [
    {
     "name": "stdout",
     "output_type": "stream",
     "text": [
      "✅ Mensaje obtenido exitosamente\n",
      "\n",
      "📧 Mensaje: \n",
      "================================================================================\n",
      "De: jlaybar@gmail.com\n",
      "Para: \n",
      "Fecha: Thu, 23 Oct 2025 04:37:09 -0500\n",
      "ID: 19a106de4d7e9439\n",
      "--------------------------------------------------------------------------------\n",
      "CUERPO:\n",
      "--------------------------------------------------------------------------------\n",
      "Este es el cuerpo del correo enviado desde la aplicación FastAPI con OAuth2 y Gmail API.\n"
     ]
    }
   ],
   "source": [
    "# Obtener detalles de un mensaje específico (usa un ID de la lista anterior)\n",
    "i = 2\n",
    "if messages:\n",
    "    message_id = messages[i]['id']  # Usar el primer mensaje de la lista\n",
    "    message_details = get_message_details(message_id)\n",
    "    \n",
    "    if message_details:\n",
    "        print(f\"\\n📧 Mensaje: {message_details['subject']}\")\n",
    "        print(\"=\" * 80)\n",
    "        print(f\"De: {message_details['from']}\")\n",
    "        print(f\"Para: {message_details['to']}\")\n",
    "        print(f\"Fecha: {message_details['date']}\")\n",
    "        print(f\"ID: {message_details['id']}\")\n",
    "        print(\"-\" * 80)\n",
    "        print(\"CUERPO:\")\n",
    "        print(\"-\" * 80)\n",
    "        print(message_details['body'][:500] + \"...\" if len(message_details['body']) > 500 else message_details['body'])\n",
    "else:\n",
    "    print(\"Primero ejecuta la celda de listar mensajes para obtener un ID válido\")"
   ]
  },
  {
   "cell_type": "markdown",
   "metadata": {},
   "source": [
    "## 9. Función para mostrar resumen del buzón"
   ]
  },
  {
   "cell_type": "code",
   "execution_count": 17,
   "metadata": {},
   "outputs": [
    {
     "name": "stdout",
     "output_type": "stream",
     "text": [
      "📊 RESUMEN DEL BUZÓN\n",
      "==================================================\n",
      "Email: jlaybar@gmail.com\n",
      "Mensajes totales: 12445\n",
      "Hilos totales: 9244\n",
      "\n",
      "Etiquetas principales:\n",
      "  • CHAT: 0 mensajes\n",
      "  • SENT: 0 mensajes\n",
      "  • INBOX: 0 mensajes\n",
      "  • IMPORTANT: 0 mensajes\n",
      "  • TRASH: 0 mensajes\n",
      "  • DRAFT: 0 mensajes\n",
      "  • SPAM: 0 mensajes\n",
      "  • CATEGORY_FORUMS: 0 mensajes\n",
      "  • CATEGORY_UPDATES: 0 mensajes\n",
      "  • CATEGORY_PERSONAL: 0 mensajes\n"
     ]
    },
    {
     "data": {
      "text/plain": [
       "{'emailAddress': 'jlaybar@gmail.com',\n",
       " 'messagesTotal': 12445,\n",
       " 'threadsTotal': 9244,\n",
       " 'historyId': '3542206'}"
      ]
     },
     "execution_count": 17,
     "metadata": {},
     "output_type": "execute_result"
    }
   ],
   "source": [
    "def mailbox_summary():\n",
    "    \"\"\"Muestra un resumen del buzón de Gmail\"\"\"\n",
    "    try:\n",
    "        service = get_gmail_service()\n",
    "        if not service:\n",
    "            return None\n",
    "        \n",
    "        # Obtener perfiles\n",
    "        profile = service.users().getProfile(userId='me').execute()\n",
    "        \n",
    "        # Obtener conteo de mensajes por etiqueta\n",
    "        labels = service.users().labels().list(userId='me').execute()\n",
    "        \n",
    "        print(\"📊 RESUMEN DEL BUZÓN\")\n",
    "        print(\"=\" * 50)\n",
    "        print(f\"Email: {profile['emailAddress']}\")\n",
    "        print(f\"Mensajes totales: {profile.get('messagesTotal', 'N/A')}\")\n",
    "        print(f\"Hilos totales: {profile.get('threadsTotal', 'N/A')}\")\n",
    "        print(\"\\nEtiquetas principales:\")\n",
    "        \n",
    "        for label in labels.get('labels', [])[:10]:  # Mostrar solo las primeras 10\n",
    "            print(f\"  • {label['name']}: {label.get('messagesTotal', 0)} mensajes\")\n",
    "        \n",
    "        return profile\n",
    "        \n",
    "    except Exception as err:\n",
    "        print(f\"❌ Error obteniendo resumen: {str(err)}\")\n",
    "        return None\n",
    "\n",
    "# Ejecutar resumen\n",
    "mailbox_summary()"
   ]
  },
  {
   "cell_type": "markdown",
   "metadata": {},
   "source": [
    "## 10. Configuración de variables de entorno\n",
    "\n",
    "Crea un archivo `.env` en la misma carpeta con:\n",
    "\n",
    "```env\n",
    "GOOGLE_CLIENT_ID=tu_client_id_aqui\n",
    "GOOGLE_CLIENT_SECRET=tu_client_secret_aqui\n",
    "GMAIL_REFRESH_TOKEN=tu_refresh_token_aqui\n",
    "GMAIL_TO=destinatario@ejemplo.com\n",
    "GMAIL_SUBJECT=Asunto por defecto\n",
    "GMAIL_BODY=Cuerpo por defecto\n",
    "```\n"
   ]
  },
  {
   "cell_type": "markdown",
   "metadata": {},
   "source": [
    "## Resumen de funciones disponibles\n",
    "\n",
    "- `send_email(to, subject, body)` - Enviar correo\n",
    "- `list_messages(max_results, label_ids)` - Listar mensajes\n",
    "- `get_message_details(message_id)` - Obtener mensaje específico\n",
    "- `mailbox_summary()` - Resumen del buzón"
   ]
  }
 ],
 "metadata": {
  "kernelspec": {
   "display_name": "base",
   "language": "python",
   "name": "python3"
  },
  "language_info": {
   "codemirror_mode": {
    "name": "ipython",
    "version": 3
   },
   "file_extension": ".py",
   "mimetype": "text/x-python",
   "name": "python",
   "nbconvert_exporter": "python",
   "pygments_lexer": "ipython3",
   "version": "3.11.7"
  }
 },
 "nbformat": 4,
 "nbformat_minor": 4
}
