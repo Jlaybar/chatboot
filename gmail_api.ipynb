{
 "cells": [
  {
   "cell_type": "markdown",
   "metadata": {},
   "source": [
    "# Gmail API - Jupyter Notebook\n",
    "Envío, gestión y eliminación de correos usando Gmail API desde Jupyter Notebook"
   ]
  },
  {
   "cell_type": "markdown",
   "metadata": {},
   "source": [
    "## 1. Instalación de dependencias"
   ]
  },
  {
   "cell_type": "code",
   "execution_count": 1,
   "metadata": {},
   "outputs": [
    {
     "name": "stdout",
     "output_type": "stream",
     "text": [
      "Requirement already satisfied: google-auth-oauthlib in c:\\users\\jaime.lopez\\appdata\\local\\anaconda3\\lib\\site-packages (1.2.2)\n",
      "Requirement already satisfied: google-auth-httplib2 in c:\\users\\jaime.lopez\\appdata\\local\\anaconda3\\lib\\site-packages (0.2.0)\n",
      "Requirement already satisfied: google-api-python-client in c:\\users\\jaime.lopez\\appdata\\local\\anaconda3\\lib\\site-packages (2.185.0)\n",
      "Requirement already satisfied: python-dotenv in c:\\users\\jaime.lopez\\appdata\\local\\anaconda3\\lib\\site-packages (1.0.0)\n",
      "Requirement already satisfied: google-auth>=2.15.0 in c:\\users\\jaime.lopez\\appdata\\local\\anaconda3\\lib\\site-packages (from google-auth-oauthlib) (2.41.1)\n",
      "Requirement already satisfied: requests-oauthlib>=0.7.0 in c:\\users\\jaime.lopez\\appdata\\local\\anaconda3\\lib\\site-packages (from google-auth-oauthlib) (2.0.0)\n",
      "Requirement already satisfied: httplib2>=0.19.0 in c:\\users\\jaime.lopez\\appdata\\local\\anaconda3\\lib\\site-packages (from google-auth-httplib2) (0.31.0)\n",
      "Requirement already satisfied: google-api-core!=2.0.*,!=2.1.*,!=2.2.*,!=2.3.0,<3.0.0,>=1.31.5 in c:\\users\\jaime.lopez\\appdata\\local\\anaconda3\\lib\\site-packages (from google-api-python-client) (2.27.0)\n",
      "Requirement already satisfied: uritemplate<5,>=3.0.1 in c:\\users\\jaime.lopez\\appdata\\local\\anaconda3\\lib\\site-packages (from google-api-python-client) (4.2.0)\n",
      "Requirement already satisfied: googleapis-common-protos<2.0.0,>=1.56.2 in c:\\users\\jaime.lopez\\appdata\\local\\anaconda3\\lib\\site-packages (from google-api-core!=2.0.*,!=2.1.*,!=2.2.*,!=2.3.0,<3.0.0,>=1.31.5->google-api-python-client) (1.71.0)\n",
      "Requirement already satisfied: protobuf!=3.20.0,!=3.20.1,!=4.21.0,!=4.21.1,!=4.21.2,!=4.21.3,!=4.21.4,!=4.21.5,<7.0.0,>=3.19.5 in c:\\users\\jaime.lopez\\appdata\\local\\anaconda3\\lib\\site-packages (from google-api-core!=2.0.*,!=2.1.*,!=2.2.*,!=2.3.0,<3.0.0,>=1.31.5->google-api-python-client) (3.20.3)\n",
      "Requirement already satisfied: proto-plus<2.0.0,>=1.22.3 in c:\\users\\jaime.lopez\\appdata\\local\\anaconda3\\lib\\site-packages (from google-api-core!=2.0.*,!=2.1.*,!=2.2.*,!=2.3.0,<3.0.0,>=1.31.5->google-api-python-client) (1.26.1)\n",
      "Requirement already satisfied: requests<3.0.0,>=2.18.0 in c:\\users\\jaime.lopez\\appdata\\local\\anaconda3\\lib\\site-packages (from google-api-core!=2.0.*,!=2.1.*,!=2.2.*,!=2.3.0,<3.0.0,>=1.31.5->google-api-python-client) (2.32.3)\n",
      "Requirement already satisfied: cachetools<7.0,>=2.0.0 in c:\\users\\jaime.lopez\\appdata\\local\\anaconda3\\lib\\site-packages (from google-auth>=2.15.0->google-auth-oauthlib) (4.2.2)\n",
      "Requirement already satisfied: pyasn1-modules>=0.2.1 in c:\\users\\jaime.lopez\\appdata\\local\\anaconda3\\lib\\site-packages (from google-auth>=2.15.0->google-auth-oauthlib) (0.2.8)\n",
      "Requirement already satisfied: rsa<5,>=3.1.4 in c:\\users\\jaime.lopez\\appdata\\local\\anaconda3\\lib\\site-packages (from google-auth>=2.15.0->google-auth-oauthlib) (4.9.1)\n",
      "Requirement already satisfied: pyparsing<4,>=3.0.4 in c:\\users\\jaime.lopez\\appdata\\local\\anaconda3\\lib\\site-packages (from httplib2>=0.19.0->google-auth-httplib2) (3.0.9)\n",
      "Requirement already satisfied: oauthlib>=3.0.0 in c:\\users\\jaime.lopez\\appdata\\local\\anaconda3\\lib\\site-packages (from requests-oauthlib>=0.7.0->google-auth-oauthlib) (3.2.2)\n",
      "Requirement already satisfied: pyasn1<0.5.0,>=0.4.6 in c:\\users\\jaime.lopez\\appdata\\local\\anaconda3\\lib\\site-packages (from pyasn1-modules>=0.2.1->google-auth>=2.15.0->google-auth-oauthlib) (0.4.8)\n",
      "Requirement already satisfied: charset-normalizer<4,>=2 in c:\\users\\jaime.lopez\\appdata\\local\\anaconda3\\lib\\site-packages (from requests<3.0.0,>=2.18.0->google-api-core!=2.0.*,!=2.1.*,!=2.2.*,!=2.3.0,<3.0.0,>=1.31.5->google-api-python-client) (2.0.4)\n",
      "Requirement already satisfied: idna<4,>=2.5 in c:\\users\\jaime.lopez\\appdata\\local\\anaconda3\\lib\\site-packages (from requests<3.0.0,>=2.18.0->google-api-core!=2.0.*,!=2.1.*,!=2.2.*,!=2.3.0,<3.0.0,>=1.31.5->google-api-python-client) (3.4)\n",
      "Requirement already satisfied: urllib3<3,>=1.21.1 in c:\\users\\jaime.lopez\\appdata\\local\\anaconda3\\lib\\site-packages (from requests<3.0.0,>=2.18.0->google-api-core!=2.0.*,!=2.1.*,!=2.2.*,!=2.3.0,<3.0.0,>=1.31.5->google-api-python-client) (2.0.7)\n",
      "Requirement already satisfied: certifi>=2017.4.17 in c:\\users\\jaime.lopez\\appdata\\local\\anaconda3\\lib\\site-packages (from requests<3.0.0,>=2.18.0->google-api-core!=2.0.*,!=2.1.*,!=2.2.*,!=2.3.0,<3.0.0,>=1.31.5->google-api-python-client) (2024.12.14)\n"
     ]
    }
   ],
   "source": [
    "!pip install google-auth-oauthlib google-auth-httplib2 google-api-python-client python-dotenv"
   ]
  },
  {
   "cell_type": "markdown",
   "metadata": {},
   "source": [
    "## 2. Configuración e imports"
   ]
  },
  {
   "cell_type": "code",
   "execution_count": 5,
   "metadata": {},
   "outputs": [
    {
     "name": "stdout",
     "output_type": "stream",
     "text": [
      "✅ Módulos importados y configuración cargada\n"
     ]
    }
   ],
   "source": [
    "import os\n",
    "import base64\n",
    "import json\n",
    "import time\n",
    "from email.mime.text import MIMEText\n",
    "from google.auth.transport.requests import Request\n",
    "from google.oauth2.credentials import Credentials\n",
    "from google_auth_oauthlib.flow import InstalledAppFlow\n",
    "from googleapiclient.discovery import build\n",
    "from googleapiclient.errors import HttpError\n",
    "from dotenv import load_dotenv\n",
    "\n",
    "# Cargar variables de entorno\n",
    "load_dotenv()\n",
    "\n",
    " \n",
    "\n",
    "# Scopes de la API (añadido modify para eliminar)\n",
    "SCOPES = [\n",
    "    'https://www.googleapis.com/auth/gmail.send',\n",
    "    'https://www.googleapis.com/auth/gmail.readonly'\n",
    "]\n",
    "\n",
    "print(\"✅ Módulos importados y configuración cargada\")"
   ]
  },
  {
   "cell_type": "markdown",
   "metadata": {},
   "source": [
    "## 3. Función de autenticación"
   ]
  },
  {
   "cell_type": "code",
   "execution_count": 6,
   "metadata": {},
   "outputs": [],
   "source": [
    "def load_credentials():\n",
    "    \"\"\"Carga o genera credenciales para la API de Gmail\"\"\"\n",
    "    creds = None\n",
    "    \n",
    "    # El archivo token.json almacena los tokens de acceso y actualización\n",
    "    if os.path.exists('token.json'):\n",
    "        creds = Credentials.from_authorized_user_file('token.json', SCOPES)\n",
    "    \n",
    "    # Si no hay credenciales válidas, permite que el usuario inicie sesión\n",
    "    if not creds or not creds.valid:\n",
    "        if creds and creds.expired and creds.refresh_token:\n",
    "            creds.refresh(Request())\n",
    "        else:\n",
    "            # Para uso en CLI con refresh token preexistente\n",
    "            refresh_token = os.getenv('GMAIL_REFRESH_TOKEN')\n",
    "            client_id = os.getenv('GOOGLE_CLIENT_ID')\n",
    "            client_secret = os.getenv('GOOGLE_CLIENT_SECRET')\n",
    "            \n",
    "            if refresh_token and client_id and client_secret:\n",
    "                creds = Credentials(\n",
    "                    token=None,\n",
    "                    refresh_token=refresh_token,\n",
    "                    token_uri='https://oauth2.googleapis.com/token',\n",
    "                    client_id=client_id,\n",
    "                    client_secret=client_secret,\n",
    "                    scopes=SCOPES\n",
    "                )\n",
    "                # Refrescar el token\n",
    "                creds.refresh(Request())\n",
    "            else:\n",
    "                # Flujo de autenticación interactivo\n",
    "                flow = InstalledAppFlow.from_client_secrets_file(\n",
    "                    'credentials.json', SCOPES)\n",
    "                creds = flow.run_local_server(port=0)\n",
    "            \n",
    "            # Guarda las credenciales para la próxima ejecución\n",
    "            with open('token.json', 'w') as token:\n",
    "                token.write(creds.to_json())\n",
    "    \n",
    "    return creds\n",
    "\n",
    "def get_gmail_service():\n",
    "    \"\"\"Obtiene el servicio de Gmail\"\"\"\n",
    "    creds = load_credentials()\n",
    "    return build('gmail', 'v1', credentials=creds)"
   ]
  },
  {
   "cell_type": "code",
   "execution_count": 7,
   "metadata": {},
   "outputs": [
    {
     "data": {
      "text/plain": [
       "<googleapiclient.discovery.Resource at 0x1a5daf80d90>"
      ]
     },
     "execution_count": 7,
     "metadata": {},
     "output_type": "execute_result"
    }
   ],
   "source": [
    "get_gmail_service()"
   ]
  },
  {
   "cell_type": "markdown",
   "metadata": {},
   "source": [
    "## 4. Funciones auxiliares"
   ]
  },
  {
   "cell_type": "code",
   "execution_count": 8,
   "metadata": {},
   "outputs": [
    {
     "name": "stdout",
     "output_type": "stream",
     "text": [
      "✅ Funciones auxiliares definidas\n"
     ]
    }
   ],
   "source": [
    "def create_message(to, subject, body):\n",
    "    \"\"\"Crea un mensaje MIME para enviar\"\"\"\n",
    "    message = MIMEText(body, 'plain', 'utf-8')\n",
    "    message['to'] = to\n",
    "    message['subject'] = subject\n",
    "    return {\n",
    "        'raw': base64.urlsafe_b64encode(\n",
    "            message.as_bytes()\n",
    "        ).decode('ascii')\n",
    "    }\n",
    "\n",
    "def decode_message_body(data):\n",
    "    \"\"\"Decodifica el cuerpo del mensaje desde base64\"\"\"\n",
    "    if 'data' in data:\n",
    "        return base64.urlsafe_b64decode(data['data']).decode('utf-8')\n",
    "    return ''\n",
    "\n",
    "def get_message_text_parts(parts):\n",
    "    \"\"\"Extrae el texto de las partes del mensaje\"\"\"\n",
    "    text_parts = []\n",
    "    for part in parts:\n",
    "        if part['mimeType'] == 'text/plain':\n",
    "            text_parts.append(decode_message_body(part['body']))\n",
    "        elif part['mimeType'] == 'text/html':\n",
    "            text_parts.append(decode_message_body(part['body']))\n",
    "        elif 'parts' in part:\n",
    "            # Mensajes multipart\n",
    "            text_parts.extend(get_message_text_parts(part['parts']))\n",
    "    return text_parts\n",
    "\n",
    "print(\"✅ Funciones auxiliares definidas\")"
   ]
  },
  {
   "cell_type": "markdown",
   "metadata": {},
   "source": [
    "## 5. Función para enviar correos"
   ]
  },
  {
   "cell_type": "code",
   "execution_count": 9,
   "metadata": {},
   "outputs": [
    {
     "name": "stdout",
     "output_type": "stream",
     "text": [
      "✅ Función de envío definida\n"
     ]
    }
   ],
   "source": [
    "def send_email(to=None, subject=None, body=None):\n",
    "    \"\"\"Envía un correo usando Gmail API\"\"\"\n",
    "    try:\n",
    "        service = get_gmail_service()\n",
    "        if not service:\n",
    "            print(\"❌ No se pudo obtener el servicio de Gmail\")\n",
    "            return None\n",
    "        \n",
    "        # Valores por defecto\n",
    "        to = to or os.getenv('GMAIL_TO', 'jlaybar@dominio.com')\n",
    "        subject = subject or os.getenv('GMAIL_SUBJECT', 'Prueba desde Jupyter Notebook')\n",
    "        body = body or os.getenv('GMAIL_BODY', 'Hola! 👋 Este correo fue enviado desde Jupyter Notebook usando la API de Gmail.')\n",
    "        \n",
    "        # Crear y enviar mensaje\n",
    "        message = create_message(to, subject, body)\n",
    "        result = service.users().messages().send(\n",
    "            userId='me', \n",
    "            body=message\n",
    "        ).execute()\n",
    "        \n",
    "        print(f'✅ Correo enviado exitosamente!')\n",
    "        print(f'   ID: {result[\"id\"]}')\n",
    "        print(f'   Para: {to}')\n",
    "        print(f'   Asunto: {subject}')\n",
    "        \n",
    "        return result\n",
    "        \n",
    "    except HttpError as err:\n",
    "        error_detail = err.content.decode('utf-8') if err.content else str(err)\n",
    "        print(f'❌ Error enviando correo: {error_detail}')\n",
    "        return None\n",
    "    except Exception as err:\n",
    "        print(f'❌ Error inesperado: {str(err)}')\n",
    "        return None\n",
    "\n",
    "print(\"✅ Función de envío definida\")"
   ]
  },
  {
   "cell_type": "markdown",
   "metadata": {},
   "source": [
    "## 6. Función para listar mensajes"
   ]
  },
  {
   "cell_type": "code",
   "execution_count": 10,
   "metadata": {},
   "outputs": [
    {
     "name": "stdout",
     "output_type": "stream",
     "text": [
      "✅ Función para listar mensajes definida\n"
     ]
    }
   ],
   "source": [
    "def list_messages(max_results=10, label_ids='INBOX'):\n",
    "    \"\"\"Lista los últimos mensajes del buzón\"\"\"\n",
    "    try:\n",
    "        service = get_gmail_service()\n",
    "        if not service:\n",
    "            print(\"❌ No se pudo obtener el servicio de Gmail\")\n",
    "            return None\n",
    "        \n",
    "        # Obtener lista de mensajes\n",
    "        result = service.users().messages().list(\n",
    "            userId='me',\n",
    "            maxResults=max_results,\n",
    "            labelIds=label_ids\n",
    "        ).execute()\n",
    "        \n",
    "        messages = result.get('messages', [])\n",
    "        messages_list = []\n",
    "        \n",
    "        print(f\"📧 Obteniendo detalles de {len(messages)} mensajes...\")\n",
    "        \n",
    "        # Obtener detalles de cada mensaje\n",
    "        for i, msg in enumerate(messages):\n",
    "            print(f\"   Procesando mensaje {i+1}/{len(messages)}...\")\n",
    "            \n",
    "            message_detail = service.users().messages().get(\n",
    "                userId='me', \n",
    "                id=msg['id'],\n",
    "                format='metadata',\n",
    "                metadataHeaders=['Subject', 'From', 'Date']\n",
    "            ).execute()\n",
    "            \n",
    "            # Extraer headers importantes\n",
    "            headers = {h['name']: h['value'] for h in message_detail.get('payload', {}).get('headers', [])}\n",
    "            \n",
    "            messages_list.append({\n",
    "                'id': msg['id'],\n",
    "                'threadId': msg.get('threadId'),\n",
    "                'snippet': message_detail.get('snippet', ''),\n",
    "                'subject': headers.get('Subject', ''),\n",
    "                'from': headers.get('From', ''),\n",
    "                'date': headers.get('Date', ''),\n",
    "                'labelIds': message_detail.get('labelIds', [])\n",
    "            })\n",
    "        \n",
    "        print(f\"✅ Se obtuvieron {len(messages_list)} mensajes\")\n",
    "        return messages_list\n",
    "        \n",
    "    except HttpError as err:\n",
    "        print(f'❌ Error de Gmail API: {err}')\n",
    "        return None\n",
    "    except Exception as err:\n",
    "        print(f'❌ Error inesperado: {str(err)}')\n",
    "        return None\n",
    "\n",
    "print(\"✅ Función para listar mensajes definida\")"
   ]
  },
  {
   "cell_type": "markdown",
   "metadata": {},
   "source": [
    "## 7. Función para obtener mensaje específico"
   ]
  },
  {
   "cell_type": "code",
   "execution_count": 11,
   "metadata": {},
   "outputs": [
    {
     "name": "stdout",
     "output_type": "stream",
     "text": [
      "✅ Función para obtener mensaje definida\n"
     ]
    }
   ],
   "source": [
    "def get_message_details(message_id):\n",
    "    \"\"\"Obtiene el cuerpo completo de un mensaje específico\"\"\"\n",
    "    try:\n",
    "        service = get_gmail_service()\n",
    "        if not service:\n",
    "            print(\"❌ No se pudo obtener el servicio de Gmail\")\n",
    "            return None\n",
    "        \n",
    "        # Obtener mensaje completo\n",
    "        message = service.users().messages().get(\n",
    "            userId='me', \n",
    "            id=message_id,\n",
    "            format='full'\n",
    "        ).execute()\n",
    "        \n",
    "        # Extraer headers\n",
    "        headers = {h['name']: h['value'] for h in message.get('payload', {}).get('headers', [])}\n",
    "        \n",
    "        # Extraer cuerpo del mensaje\n",
    "        body_text = ''\n",
    "        payload = message.get('payload', {})\n",
    "        \n",
    "        if 'parts' in payload:\n",
    "            # Mensaje multipart\n",
    "            text_parts = get_message_text_parts(payload['parts'])\n",
    "            body_text = ''.join(text_parts)\n",
    "        elif 'body' in payload and 'data' in payload['body']:\n",
    "            # Mensaje simple\n",
    "            body_text = decode_message_body(payload['body'])\n",
    "        \n",
    "        message_details = {\n",
    "            'id': message['id'],\n",
    "            'threadId': message.get('threadId'),\n",
    "            'snippet': message.get('snippet', ''),\n",
    "            'subject': headers.get('Subject', ''),\n",
    "            'from': headers.get('From', ''),\n",
    "            'to': headers.get('To', ''),\n",
    "            'date': headers.get('Date', ''),\n",
    "            'body': body_text,\n",
    "            'labelIds': message.get('labelIds', [])\n",
    "        }\n",
    "        \n",
    "        print(f\"✅ Mensaje obtenido exitosamente\")\n",
    "        return message_details\n",
    "        \n",
    "    except HttpError as err:\n",
    "        print(f'❌ Error de Gmail API: {err}')\n",
    "        return None\n",
    "    except Exception as err:\n",
    "        print(f'❌ Error inesperado: {str(err)}')\n",
    "        return None\n",
    "\n",
    "print(\"✅ Función para obtener mensaje definida\")"
   ]
  },
  {
   "cell_type": "markdown",
   "metadata": {},
   "source": [
    "## 8. Función para buscar mensajes"
   ]
  },
  {
   "cell_type": "code",
   "execution_count": 12,
   "metadata": {},
   "outputs": [
    {
     "name": "stdout",
     "output_type": "stream",
     "text": [
      "✅ Función de búsqueda definida\n"
     ]
    }
   ],
   "source": [
    "def search_messages(search_query, max_results=100):\n",
    "    \"\"\"Busca mensajes basados en una consulta\"\"\"\n",
    "    try:\n",
    "        service = get_gmail_service()\n",
    "        if not service:\n",
    "            print(\"❌ No se pudo obtener el servicio de Gmail\")\n",
    "            return None\n",
    "        \n",
    "        result = service.users().messages().list(\n",
    "            userId='me',\n",
    "            q=search_query,\n",
    "            maxResults=max_results\n",
    "        ).execute()\n",
    "        \n",
    "        messages = result.get('messages', [])\n",
    "        messages_list = []\n",
    "        \n",
    "        print(f\"🔍 Buscando mensajes con query: '{search_query}'\")\n",
    "        print(f\"📨 Encontrados {len(messages)} mensajes\")\n",
    "        \n",
    "        # Obtener detalles de cada mensaje\n",
    "        for i, msg in enumerate(messages):\n",
    "            message_detail = service.users().messages().get(\n",
    "                userId='me', \n",
    "                id=msg['id'],\n",
    "                format='metadata',\n",
    "                metadataHeaders=['Subject', 'From', 'Date']\n",
    "            ).execute()\n",
    "            \n",
    "            # Extraer headers importantes\n",
    "            headers = {h['name']: h['value'] for h in message_detail.get('payload', {}).get('headers', [])}\n",
    "            \n",
    "            messages_list.append({\n",
    "                'id': msg['id'],\n",
    "                'threadId': msg.get('threadId'),\n",
    "                'snippet': message_detail.get('snippet', ''),\n",
    "                'subject': headers.get('Subject', ''),\n",
    "                'from': headers.get('From', ''),\n",
    "                'date': headers.get('Date', ''),\n",
    "                'labelIds': message_detail.get('labelIds', [])\n",
    "            })\n",
    "        \n",
    "        return messages_list\n",
    "        \n",
    "    except HttpError as err:\n",
    "        print(f'❌ Error buscando mensajes: {err}')\n",
    "        return []\n",
    "\n",
    "print(\"✅ Función de búsqueda definida\")"
   ]
  },
  {
   "cell_type": "markdown",
   "metadata": {},
   "source": [
    "## 9. 🆕 Función para eliminar mensajes por palabra clave"
   ]
  },
  {
   "cell_type": "code",
   "execution_count": 13,
   "metadata": {},
   "outputs": [
    {
     "name": "stdout",
     "output_type": "stream",
     "text": [
      "✅ Función de eliminación definida\n"
     ]
    }
   ],
   "source": [
    "def delete_messages_by_keyword(keyword, search_in='both', max_results=500, dry_run=False):\n",
    "    \"\"\"\n",
    "    Elimina mensajes que contengan una palabra clave en asunto o remitente\n",
    "    \n",
    "    Args:\n",
    "        keyword (str): Palabra clave a buscar\n",
    "        search_in (str): Dónde buscar ('subject', 'from', 'both')\n",
    "        max_results (int): Máximo número de mensajes a procesar\n",
    "        dry_run (bool): Si es True, solo muestra qué se eliminaría sin hacer cambios\n",
    "    \"\"\"\n",
    "    try:\n",
    "        service = get_gmail_service()\n",
    "        if not service:\n",
    "            print(\"❌ No se pudo obtener el servicio de Gmail\")\n",
    "            return None\n",
    "        \n",
    "        # Construir query de búsqueda\n",
    "        search_queries = []\n",
    "        \n",
    "        if search_in in ['subject', 'both']:\n",
    "            search_queries.append(f'subject:\"{keyword}\"')\n",
    "        \n",
    "        if search_in in ['from', 'both']:\n",
    "            search_queries.append(f'from:\"{keyword}\"')\n",
    "        \n",
    "        # Buscar mensajes para cada query\n",
    "        all_messages = []\n",
    "        seen_ids = set()\n",
    "        \n",
    "        for query in search_queries:\n",
    "            messages = search_messages(query, max_results)\n",
    "            for msg in messages:\n",
    "                if msg['id'] not in seen_ids:\n",
    "                    seen_ids.add(msg['id'])\n",
    "                    all_messages.append(msg)\n",
    "        \n",
    "        if not all_messages:\n",
    "            print(\"✅ No se encontraron mensajes que coincidan con la búsqueda\")\n",
    "            return None\n",
    "        \n",
    "        # Mostrar mensajes encontrados\n",
    "        print(f\"\\n📋 MENSAJES ENCONTRADOS ({len(all_messages)}):\")\n",
    "        print(\"=\" * 100)\n",
    "        for i, msg in enumerate(all_messages, 1):\n",
    "            source = []\n",
    "            if search_in in ['subject', 'both'] and keyword.lower() in msg['subject'].lower():\n",
    "                source.append('asunto')\n",
    "            if search_in in ['from', 'both'] and keyword.lower() in msg['from'].lower():\n",
    "                source.append('remitente')\n",
    "            \n",
    "            print(f\"{i}. ID: {msg['id']}\")\n",
    "            print(f\"   De: {msg['from']}\")\n",
    "            print(f\"   Asunto: {msg['subject']}\")\n",
    "            print(f\"   Fecha: {msg['date']}\")\n",
    "            print(f\"   Coincidencia en: {', '.join(source)}\")\n",
    "            print(f\"   Snippet: {msg['snippet'][:100]}...\")\n",
    "            print(\"-\" * 100)\n",
    "        \n",
    "        if dry_run:\n",
    "            print(f\"\\n🔍 MODO SIMULACIÓN: Se eliminarían {len(all_messages)} mensajes\")\n",
    "            print(\"   Ejecuta con dry_run=False para eliminar realmente\")\n",
    "            return all_messages\n",
    "        \n",
    "        # Confirmar eliminación\n",
    "        print(f\"\\n⚠️  ¿Estás seguro de que quieres eliminar {len(all_messages)} mensajes?\")\n",
    "        confirm = input(\"   Escribe 'ELIMINAR' para confirmar: \")\n",
    "        if confirm != 'ELIMINAR':\n",
    "            print(\"❌ Eliminación cancelada\")\n",
    "            return None\n",
    "        \n",
    "        # Eliminar mensajes\n",
    "        deleted_count = 0\n",
    "        error_count = 0\n",
    "        \n",
    "        for i, msg in enumerate(all_messages, 1):\n",
    "            try:\n",
    "                service.users().messages().delete(\n",
    "                    userId='me',\n",
    "                    id=msg['id']\n",
    "                ).execute()\n",
    "                deleted_count += 1\n",
    "                print(f\"🗑️  Eliminado {i}/{len(all_messages)}: {msg['subject'][:50]}...\")\n",
    "                \n",
    "                # Pequeña pausa para evitar rate limits\n",
    "                time.sleep(0.1)\n",
    "                \n",
    "            except HttpError as err:\n",
    "                error_count += 1\n",
    "                print(f\"❌ Error eliminando mensaje {msg['id']}: {err}\")\n",
    "                continue\n",
    "        \n",
    "        print(f\"\\n📊 RESULTADO DE ELIMINACIÓN:\")\n",
    "        print(f\"   ✅ Eliminados: {deleted_count}\")\n",
    "        print(f\"   ❌ Errores: {error_count}\")\n",
    "        print(f\"   📊 Total: {len(all_messages)}\")\n",
    "        \n",
    "        return {\n",
    "            'deleted': deleted_count,\n",
    "            'errors': error_count,\n",
    "            'total': len(all_messages)\n",
    "        }\n",
    "        \n",
    "    except Exception as err:\n",
    "        print(f'❌ Error inesperado: {str(err)}')\n",
    "        return None\n",
    "\n",
    "print(\"✅ Función de eliminación definida\")"
   ]
  },
  {
   "cell_type": "markdown",
   "metadata": {},
   "source": [
    "## 10. Ejemplos de uso"
   ]
  },
  {
   "cell_type": "markdown",
   "metadata": {},
   "source": [
    "### 10.1 Enviar un correo de prueba"
   ]
  },
  {
   "cell_type": "code",
   "execution_count": 27,
   "metadata": {},
   "outputs": [
    {
     "name": "stdout",
     "output_type": "stream",
     "text": [
      "✅ Correo enviado exitosamente!\n",
      "   ID: 19a11ddcb8072ad1\n",
      "   Para: destinatario@ejemplo.com\n",
      "   Asunto: Prueba desde Jupyter Notebook\n",
      "Correo enviado con éxito!\n"
     ]
    }
   ],
   "source": [
    "# Enviar correo de prueba\n",
    "result = send_email(\n",
    "    to=\"destinatario@ejemplo.com\",  # Cambia por un email real\n",
    "    subject=\"Prueba desde Jupyter Notebook\",\n",
    "    body=\"¡Hola! Este es un correo de prueba enviado desde Jupyter Notebook usando Gmail API.\"\n",
    ")\n",
    "\n",
    "if result:\n",
    "    print(\"Correo enviado con éxito!\")\n",
    "else:\n",
    "    print(\"Error al enviar el correo\")"
   ]
  },
  {
   "cell_type": "markdown",
   "metadata": {},
   "source": [
    "### 10.2 Listar últimos mensajes"
   ]
  },
  {
   "cell_type": "code",
   "execution_count": 25,
   "metadata": {},
   "outputs": [
    {
     "name": "stdout",
     "output_type": "stream",
     "text": [
      "📧 Obteniendo detalles de 5 mensajes...\n",
      "   Procesando mensaje 1/5...\n",
      "   Procesando mensaje 2/5...\n",
      "   Procesando mensaje 3/5...\n",
      "   Procesando mensaje 4/5...\n",
      "   Procesando mensaje 5/5...\n",
      "✅ Se obtuvieron 5 mensajes\n",
      "\n",
      "📬 Últimos mensajes:\n",
      "--------------------------------------------------------------------------------\n",
      "1. De: Mail Delivery Subsystem <mailer-daemon@googlemail.com>\n",
      "   Asunto: Delivery Status Notification (Failure)\n",
      "   Fecha: Thu, 23 Oct 2025 09:15:08 -0700 (PDT)\n",
      "   ID: 19a11da42641c0bd\n",
      "   Snippet: No se ha encontrado la dirección Tu mensaje no se ha entregado a destinatario@ejemplo.com porque no ...\n",
      "--------------------------------------------------------------------------------\n",
      "2. De: jlaybar@gmail.com\n",
      "   Asunto: \n",
      "   Fecha: Thu, 23 Oct 2025 10:41:22 -0500\n",
      "   ID: 19a11bb5cf857033\n",
      "   Snippet: Contenido del email...\n",
      "--------------------------------------------------------------------------------\n",
      "3. De: jlaybar@gmail.com\n",
      "   Asunto: \n",
      "   Fecha: Thu, 23 Oct 2025 10:24:16 -0500\n",
      "   ID: 19a11abb4679e3ca\n",
      "   Snippet: Este es el cuerpo del correo enviado desde la aplicación FastAPI con OAuth2 y Gmail API....\n",
      "--------------------------------------------------------------------------------\n",
      "4. De: \"Financiera El Corte Inglés\" <noreply@mc.financieraelcorteingles.es>\n",
      "   Asunto: Aprovecha el 4%+2% de bonificación en Repsol⛽con tu Tarjeta\n",
      "   Fecha: Thu, 23 Oct 2025 08:30:50 -0600\n",
      "   ID: 19a1182fb4d4a76f\n",
      "   Snippet: Si no puedes visualizar este email correctamente, haz clic aquí Jaime Manuel, no olvides tu Tarjeta ...\n",
      "--------------------------------------------------------------------------------\n",
      "5. De: IBERIA <iberia@boletines.iberia.com>\n",
      "   Asunto: Di SÍ a tu ilusión por viajar\n",
      "   Fecha: Thu, 23 Oct 2025 07:35:23 -0600\n",
      "   ID: 19a11481e663fcc5\n",
      "   Snippet: Este invierno tienes un viaje pendiente​​ ​​ ​​ ​​ ​​ ​​ ​​ ​​ ​​ ​​ ​​ ​​ ​​ ​​ ​​ ​​ ​​ ​​ ​​ ​​ ​...\n",
      "--------------------------------------------------------------------------------\n"
     ]
    }
   ],
   "source": [
    "# Listar últimos 5 mensajes\n",
    "messages = list_messages(max_results=5)\n",
    "\n",
    "if messages:\n",
    "    print(\"\\n📬 Últimos mensajes:\")\n",
    "    print(\"-\" * 80)\n",
    "    for i, msg in enumerate(messages):\n",
    "        print(f\"{i+1}. De: {msg['from']}\")\n",
    "        print(f\"   Asunto: {msg['subject']}\")\n",
    "        print(f\"   Fecha: {msg['date']}\")\n",
    "        print(f\"   ID: {msg['id']}\")\n",
    "        print(f\"   Snippet: {msg['snippet'][:100]}...\")\n",
    "        print(\"-\" * 80)"
   ]
  },
  {
   "cell_type": "markdown",
   "metadata": {},
   "source": [
    "### 10.3 Buscar mensajes específicos"
   ]
  },
  {
   "cell_type": "code",
   "execution_count": 13,
   "metadata": {},
   "outputs": [
    {
     "name": "stdout",
     "output_type": "stream",
     "text": [
      "🔍 Buscando mensajes con query: 'API'\n",
      "📨 Encontrados 5 mensajes\n",
      "\n",
      "🔍 Resultados de búsqueda:\n",
      "1. Mail Delivery Subsystem <mailer-daemon@googlemail.com> - Delivery Status Notification (Failure)\n",
      "2. jlaybar@gmail.com - \n",
      "3. jlaybar@gmail.com - Asunto del correo2 enviado desde FastAPI con OAuth2 y Gmail API\n",
      "4. jlaybar@gmail.com - \n",
      "5. Mail Delivery Subsystem <mailer-daemon@googlemail.com> - Delivery Status Notification (Failure)\n"
     ]
    }
   ],
   "source": [
    "# Buscar mensajes con una palabra clave\n",
    "palabra_clave = \"API\"\n",
    "\n",
    "search_results = search_messages(palabra_clave, max_results=5)\n",
    "\n",
    "if search_results:\n",
    "    print(\"\\n🔍 Resultados de búsqueda:\")\n",
    "    for i, msg in enumerate(search_results, 1):\n",
    "        print(f\"{i}. {msg['from']} - {msg['subject']}\")"
   ]
  },
  {
   "cell_type": "markdown",
   "metadata": {},
   "source": [
    "### 10.4 🆕 Simular eliminación de mensajes (MODO SEGURO)"
   ]
  },
  {
   "cell_type": "code",
   "execution_count": 14,
   "metadata": {},
   "outputs": [
    {
     "name": "stdout",
     "output_type": "stream",
     "text": [
      "🔍 MODO SIMULACIÓN - No se eliminará nada\n",
      "🔍 Buscando mensajes con query: 'subject:\"Revolut\"'\n",
      "📨 Encontrados 1 mensajes\n",
      "\n",
      "📋 MENSAJES ENCONTRADOS (1):\n",
      "====================================================================================================\n",
      "1. ID: 19a0fdae420b4579\n",
      "   De: Revolut <no-reply@revolut.com>\n",
      "   Asunto: Recibe 60 € por cada persona que se una a Revolut\n",
      "   Fecha: Thu, 23 Oct 2025 06:56:34 +0000\n",
      "   Coincidencia en: asunto\n",
      "   Snippet: ¿Quieres llevarte 60 €? Invita amigos a Revolut y llévate una recompensa por cada uno que se registr...\n",
      "----------------------------------------------------------------------------------------------------\n",
      "\n",
      "🔍 MODO SIMULACIÓN: Se eliminarían 1 mensajes\n",
      "   Ejecuta con dry_run=False para eliminar realmente\n"
     ]
    }
   ],
   "source": [
    "# Simular eliminación de mensajes con \"spam\" en el asunto\n",
    "print(\"🔍 MODO SIMULACIÓN - No se eliminará nada\")\n",
    "deletion_simulation = delete_messages_by_keyword(\n",
    "    keyword=\"Revolut\", \n",
    "    search_in=\"subject\", \n",
    "    max_results=10,\n",
    "    dry_run=True  # ¡MODO SEGURO!\n",
    ")"
   ]
  },
  {
   "cell_type": "code",
   "execution_count": 22,
   "metadata": {},
   "outputs": [
    {
     "name": "stdout",
     "output_type": "stream",
     "text": [
      "🔍 MODO SIMULACIÓN - No se eliminará nada\n",
      "🔍 Buscando mensajes con query: 'from:\"Revolut\"'\n",
      "📨 Encontrados 1 mensajes\n",
      "\n",
      "📋 MENSAJES ENCONTRADOS (1):\n",
      "====================================================================================================\n",
      "1. ID: 19a0fdae420b4579\n",
      "   De: Revolut <no-reply@revolut.com>\n",
      "   Asunto: Recibe 60 € por cada persona que se una a Revolut\n",
      "   Fecha: Thu, 23 Oct 2025 06:56:34 +0000\n",
      "   Coincidencia en: remitente\n",
      "   Snippet: ¿Quieres llevarte 60 €? Invita amigos a Revolut y llévate una recompensa por cada uno que se registr...\n",
      "----------------------------------------------------------------------------------------------------\n",
      "\n",
      "🔍 MODO SIMULACIÓN: Se eliminarían 1 mensajes\n",
      "   Ejecuta con dry_run=False para eliminar realmente\n"
     ]
    }
   ],
   "source": [
    "# Simular eliminación de mensajes con \"spam\" en el asunto\n",
    "print(\"🔍 MODO SIMULACIÓN - No se eliminará nada\")\n",
    "deletion_simulation = delete_messages_by_keyword(\n",
    "    keyword=\"Revolut\", \n",
    "    search_in=\"from\",  \n",
    "    max_results=1,\n",
    "    dry_run=True  # ¡MODO SEGURO!\n",
    ")"
   ]
  },
  {
   "cell_type": "markdown",
   "metadata": {},
   "source": [
    "### 10.5 🆕 Eliminación real de mensajes (¡CUIDADO!)"
   ]
  },
  {
   "cell_type": "code",
   "execution_count": 15,
   "metadata": {},
   "outputs": [
    {
     "name": "stdout",
     "output_type": "stream",
     "text": [
      "🔍 Buscando mensajes con query: 'from:\"Revolut\"'\n",
      "📨 Encontrados 1 mensajes\n",
      "\n",
      "📋 MENSAJES ENCONTRADOS (1):\n",
      "====================================================================================================\n",
      "1. ID: 19a0fdae420b4579\n",
      "   De: Revolut <no-reply@revolut.com>\n",
      "   Asunto: Recibe 60 € por cada persona que se una a Revolut\n",
      "   Fecha: Thu, 23 Oct 2025 06:56:34 +0000\n",
      "   Coincidencia en: remitente\n",
      "   Snippet: ¿Quieres llevarte 60 €? Invita amigos a Revolut y llévate una recompensa por cada uno que se registr...\n",
      "----------------------------------------------------------------------------------------------------\n",
      "\n",
      "⚠️  ¿Estás seguro de que quieres eliminar 1 mensajes?\n",
      "❌ Error eliminando mensaje 19a0fdae420b4579: <HttpError 403 when requesting https://gmail.googleapis.com/gmail/v1/users/me/messages/19a0fdae420b4579? returned \"Request had insufficient authentication scopes.\". Details: \"[{'message': 'Insufficient Permission', 'domain': 'global', 'reason': 'insufficientPermissions'}]\">\n",
      "\n",
      "📊 RESULTADO DE ELIMINACIÓN:\n",
      "   ✅ Eliminados: 0\n",
      "   ❌ Errores: 1\n",
      "   📊 Total: 1\n",
      "Eliminación completada: {'deleted': 0, 'errors': 1, 'total': 1}\n",
      "⚠️  Celda de eliminación real comentada por seguridad\n"
     ]
    }
   ],
   "source": [
    "# ⚠️ ELIMINACIÓN REAL - Descomenta solo si estás seguro\n",
    "\n",
    "# Eliminar mensajes de un remitente específico\n",
    "deletion_result = delete_messages_by_keyword(\n",
    "    keyword=\"Revolut\", \n",
    "    search_in=\"from\", \n",
    "    max_results=1,\n",
    "    dry_run=False  # ⚠️ Esto eliminará permanentemente\n",
    ")\n",
    "\n",
    "if deletion_result:\n",
    "    print(f\"Eliminación completada: {deletion_result}\")\n",
    "\n",
    "print(\"⚠️  Celda de eliminación real comentada por seguridad\")"
   ]
  },
  {
   "cell_type": "markdown",
   "metadata": {},
   "source": [
    "### 10.6 Obtener mensaje específico"
   ]
  },
  {
   "cell_type": "code",
   "execution_count": 18,
   "metadata": {},
   "outputs": [
    {
     "name": "stdout",
     "output_type": "stream",
     "text": [
      "✅ Mensaje obtenido exitosamente\n",
      "\n",
      "📧 Mensaje: Asunto del correo2 enviado desde FastAPI con OAuth2 y Gmail API\n",
      "================================================================================\n",
      "De: jlaybar@gmail.com\n",
      "Para: jlaybar@gmail.com\n",
      "Fecha: Thu, 23 Oct 2025 09:31:05 -0500\n",
      "ID: 19a117b02cb6a2c0\n",
      "--------------------------------------------------------------------------------\n",
      "CUERPO:\n",
      "--------------------------------------------------------------------------------\n",
      "Este es el cuerpo del correo enviado desde la aplicación FastAPI con OAuth2 y Gmail API.\n"
     ]
    }
   ],
   "source": [
    "# Obtener detalles de un mensaje específico (usa un ID de la lista anterior)\n",
    "if 'messages' in locals() and messages:\n",
    "    message_id = messages[0]['id']  # Usar el primer mensaje de la lista\n",
    "    message_details = get_message_details(message_id)\n",
    "    \n",
    "    if message_details:\n",
    "        print(f\"\\n📧 Mensaje: {message_details['subject']}\")\n",
    "        print(\"=\" * 80)\n",
    "        print(f\"De: {message_details['from']}\")\n",
    "        print(f\"Para: {message_details['to']}\")\n",
    "        print(f\"Fecha: {message_details['date']}\")\n",
    "        print(f\"ID: {message_details['id']}\")\n",
    "        print(\"-\" * 80)\n",
    "        print(\"CUERPO:\")\n",
    "        print(\"-\" * 80)\n",
    "        print(message_details['body'][:500] + \"...\" if len(message_details['body']) > 500 else message_details['body'])\n",
    "else:\n",
    "    print(\"Primero ejecuta la celda de listar mensajes para obtener un ID válido\")"
   ]
  },
  {
   "cell_type": "markdown",
   "metadata": {},
   "source": [
    "## 11. Función para mostrar resumen del buzón"
   ]
  },
  {
   "cell_type": "code",
   "execution_count": null,
   "metadata": {},
   "outputs": [],
   "source": [
    "def mailbox_summary():\n",
    "    \"\"\"Muestra un resumen del buzón de Gmail\"\"\"\n",
    "    try:\n",
    "        service = get_gmail_service()\n",
    "        if not service:\n",
    "            return None\n",
    "        \n",
    "        # Obtener perfiles\n",
    "        profile = service.users().getProfile(userId='me').execute()\n",
    "        \n",
    "        # Obtener conteo de mensajes por etiqueta\n",
    "        labels = service.users().labels().list(userId='me').execute()\n",
    "        \n",
    "        print(\"📊 RESUMEN DEL BUZÓN\")\n",
    "        print(\"=\" * 50)\n",
    "        print(f\"Email: {profile['emailAddress']}\")\n",
    "        print(f\"Mensajes totales: {profile.get('messagesTotal', 'N/A')}\")\n",
    "        print(f\"Hilos totales: {profile.get('threadsTotal', 'N/A')}\")\n",
    "        print(\"\\nEtiquetas principales:\")\n",
    "        \n",
    "        for label in labels.get('labels', [])[:10]:  # Mostrar solo las primeras 10\n",
    "            print(f\"  • {label['name']}: {label.get('messagesTotal', 0)} mensajes\")\n",
    "        \n",
    "        return profile\n",
    "        \n",
    "    except Exception as err:\n",
    "        print(f\"❌ Error obteniendo resumen: {str(err)}\")\n",
    "        return None\n",
    "\n",
    "# Ejecutar resumen\n",
    "mailbox_summary()"
   ]
  },
  {
   "cell_type": "markdown",
   "metadata": {},
   "source": [
    "## 12. Configuración de variables de entorno\n",
    "\n",
    "Crea un archivo `.env` en la misma carpeta con:\n",
    "\n",
    "```env\n",
    "GOOGLE_CLIENT_ID=tu_client_id_aqui\n",
    "GOOGLE_CLIENT_SECRET=tu_client_secret_aqui\n",
    "GMAIL_REFRESH_TOKEN=tu_refresh_token_aqui\n",
    "GMAIL_TO=destinatario@ejemplo.com\n",
    "GMAIL_SUBJECT=Asunto por defecto\n",
    "GMAIL_BODY=Cuerpo por defecto\n",
    "```\n",
    "\n",
    "O configura las variables directamente:"
   ]
  },
  {
   "cell_type": "code",
   "execution_count": null,
   "metadata": {},
   "outputs": [],
   "source": [
    "# Configuración directa (alternativa a .env)\n",
    "os.environ['GOOGLE_CLIENT_ID'] = 'tu_client_id_aqui'\n",
    "os.environ['GOOGLE_CLIENT_SECRET'] = 'tu_client_secret_aqui'\n",
    "os.environ['GMAIL_REFRESH_TOKEN'] = 'tu_refresh_token_aqui'\n",
    "\n",
    "print(\"✅ Variables de entorno configuradas\")"
   ]
  },
  {
   "cell_type": "markdown",
   "metadata": {},
   "source": [
    "## Resumen de funciones disponibles\n",
    "\n",
    "- `send_email(to, subject, body)` - Enviar correo\n",
    "- `list_messages(max_results, label_ids)` - Listar mensajes\n",
    "- `get_message_details(message_id)` - Obtener mensaje específico\n",
    "- `search_messages(search_query, max_results)` - Buscar mensajes\n",
    "- `delete_messages_by_keyword(keyword, search_in, max_results, dry_run)` - Eliminar mensajes por palabra clave\n",
    "- `mailbox_summary()` - Resumen del buzón\n",
    "\n",
    "## 🆕 Características de eliminación\n",
    "\n",
    "1. **Búsqueda flexible**: Busca en asunto, remitente o ambos\n",
    "2. **Modo simulación**: `dry_run=True` para ver qué se eliminaría\n",
    "3. **Confirmación**: Requiere escribir \"ELIMINAR\" para proceder\n",
    "4. **Proceso por lotes**: Maneja grandes cantidades eficientemente\n",
    "5. **Reporte detallado**: Muestra resultados de la eliminación\n",
    "\n",
    "**⚠️ PRECAUCIÓN**: La eliminación de mensajes es permanente. Siempre usa `dry_run=True` primero."
   ]
  },
  {
   "cell_type": "code",
   "execution_count": null,
   "metadata": {},
   "outputs": [],
   "source": []
  },
  {
   "cell_type": "code",
   "execution_count": null,
   "metadata": {},
   "outputs": [],
   "source": []
  }
 ],
 "metadata": {
  "kernelspec": {
   "display_name": "base",
   "language": "python",
   "name": "python3"
  },
  "language_info": {
   "codemirror_mode": {
    "name": "ipython",
    "version": 3
   },
   "file_extension": ".py",
   "mimetype": "text/x-python",
   "name": "python",
   "nbconvert_exporter": "python",
   "pygments_lexer": "ipython3",
   "version": "3.11.7"
  }
 },
 "nbformat": 4,
 "nbformat_minor": 4
}
