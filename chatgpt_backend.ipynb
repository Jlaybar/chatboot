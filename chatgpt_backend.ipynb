{
 "cells": [
  {
   "cell_type": "markdown",
   "metadata": {},
   "source": [
    "# 🚀 Backend ChatGPT - Jupyter Notebook\n",
    "Backend completo para conectar con la API de ChatGPT"
   ]
  },
  {
   "cell_type": "markdown",
   "metadata": {},
   "source": [
    "## 1. Instalación de dependencias"
   ]
  },
  {
   "cell_type": "code",
   "execution_count": 2,
   "metadata": {},
   "outputs": [],
   "source": [
    "# !pip install fastapi uvicorn openai python-dotenv requests"
   ]
  },
  {
   "cell_type": "markdown",
   "metadata": {},
   "source": [
    "## 2. Configuración y variables"
   ]
  },
  {
   "cell_type": "code",
   "execution_count": 3,
   "metadata": {},
   "outputs": [
    {
     "name": "stdout",
     "output_type": "stream",
     "text": [
      "✅ Configuración cargada correctamente\n",
      "🔑 API Key: ✅ Configurada\n",
      "🌐 Puerto: 8000\n"
     ]
    }
   ],
   "source": [
    "import os\n",
    "import json\n",
    "from openai import OpenAI\n",
    "from dotenv import load_dotenv\n",
    "\n",
    "# Cargar variables de entorno\n",
    "load_dotenv()\n",
    "\n",
    "# Configuración\n",
    "OPENAI_API_KEY = os.getenv(\"OPENAI_API_KEY\") or input(\"Ingresa tu API Key de OpenAI: \")\n",
    "PORT = 8000\n",
    "\n",
    "# Inicializar cliente OpenAI\n",
    "client = OpenAI(api_key=OPENAI_API_KEY)\n",
    "\n",
    "print(\"✅ Configuración cargada correctamente\")\n",
    "print(f\"🔑 API Key: {'✅ Configurada' if OPENAI_API_KEY else '❌ No configurada'}\")\n",
    "print(f\"🌐 Puerto: {PORT}\")"
   ]
  },
  {
   "cell_type": "markdown",
   "metadata": {},
   "source": [
    "## 3. Clases y modelos de datos"
   ]
  },
  {
   "cell_type": "code",
   "execution_count": 4,
   "metadata": {},
   "outputs": [
    {
     "name": "stdout",
     "output_type": "stream",
     "text": [
      "✅ Modelos de datos definidos\n"
     ]
    }
   ],
   "source": [
    "from pydantic import BaseModel\n",
    "\n",
    "class QuestionRequest(BaseModel):\n",
    "    question: str\n",
    "    model: str = \"gpt-3.5-turbo\"\n",
    "    max_tokens: int = 500\n",
    "    temperature: float = 0.7\n",
    "\n",
    "class QuestionResponse(BaseModel):\n",
    "    answer: str\n",
    "    model: str\n",
    "    tokens_used: int\n",
    "\n",
    "print(\"✅ Modelos de datos definidos\")"
   ]
  },
  {
   "cell_type": "markdown",
   "metadata": {},
   "source": [
    "## 4. Función principal para ChatGPT"
   ]
  },
  {
   "cell_type": "code",
   "execution_count": 5,
   "metadata": {},
   "outputs": [],
   "source": [
    "def ask_chatgpt(question: str, model: str = \"gpt-3.5-turbo\", max_tokens: int = 500, temperature: float = 0.7):\n",
    "    \"\"\"\n",
    "    Función para hacer preguntas a la API de ChatGPT\n",
    "    \"\"\"\n",
    "    try:\n",
    "        print(f\"🤖 Enviando pregunta a {model}...\")\n",
    "        \n",
    "        response = client.chat.completions.create(\n",
    "            model=model,\n",
    "            messages=[\n",
    "                {\"role\": \"system\", \"content\": \"Eres un asistente útil y amigable.\"},\n",
    "                {\"role\": \"user\", \"content\": question}\n",
    "            ],\n",
    "            max_tokens=max_tokens,\n",
    "            temperature=temperature\n",
    "        )\n",
    "        \n",
    "        answer = response.choices[0].message.content\n",
    "        tokens_used = response.usage.total_tokens\n",
    "        \n",
    "        print(f\"✅ Respuesta recibida ({tokens_used} tokens)\")\n",
    "        \n",
    "        return QuestionResponse(\n",
    "            answer=answer,\n",
    "            model=model,\n",
    "            tokens_used=tokens_used\n",
    "        )\n",
    "        \n",
    "    except Exception as e:\n",
    "        print(f\"❌ Error: {str(e)}\")\n",
    "        return None"
   ]
  },
  {
   "cell_type": "markdown",
   "metadata": {},
   "source": [
    "## 5. Prueba directa de la función"
   ]
  },
  {
   "cell_type": "code",
   "execution_count": 6,
   "metadata": {},
   "outputs": [
    {
     "name": "stdout",
     "output_type": "stream",
     "text": [
      "🤖 Enviando pregunta a gpt-3.5-turbo...\n",
      "✅ Respuesta recibida (89 tokens)\n",
      "\n",
      "==================================================\n",
      "📝 PREGUNTA:\n",
      "Explique qué es la inteligencia artificial en 2 líneas\n",
      "\n",
      "💬 RESPUESTA:\n",
      "La inteligencia artificial es la capacidad de las máquinas para realizar tareas que normalmente requieren inteligencia humana, como el aprendizaje, la resolución de problemas y la toma de decisiones, mediante algoritmos y datos.\n",
      "\n",
      "📊 METADATA:\n",
      "Modelo: gpt-3.5-turbo\n",
      "Tokens usados: 89\n",
      "==================================================\n"
     ]
    }
   ],
   "source": [
    "# Prueba directa sin servidor\n",
    "test_question = \"Explique qué es la inteligencia artificial en 2 líneas\"\n",
    "\n",
    "result = ask_chatgpt(test_question)\n",
    "\n",
    "if result:\n",
    "    print(\"\\n\" + \"=\"*50)\n",
    "    print(\"📝 PREGUNTA:\")\n",
    "    print(test_question)\n",
    "    print(\"\\n💬 RESPUESTA:\")\n",
    "    print(result.answer)\n",
    "    print(\"\\n📊 METADATA:\")\n",
    "    print(f\"Modelo: {result.model}\")\n",
    "    print(f\"Tokens usados: {result.tokens_used}\")\n",
    "    print(\"=\"*50)"
   ]
  },
  {
   "cell_type": "markdown",
   "metadata": {},
   "source": [
    "## 6. Backend FastAPI (ejecutable desde notebook)"
   ]
  },
  {
   "cell_type": "code",
   "execution_count": 7,
   "metadata": {},
   "outputs": [
    {
     "name": "stdout",
     "output_type": "stream",
     "text": [
      "✅ Aplicación FastAPI creada\n"
     ]
    }
   ],
   "source": [
    "from fastapi import FastAPI\n",
    "import uvicorn\n",
    "import threading\n",
    "\n",
    "# Crear aplicación FastAPI\n",
    "app = FastAPI(\n",
    "    title=\"ChatGPT API Backend\",\n",
    "    description=\"Backend para conectar con ChatGPT\",\n",
    "    version=\"1.0.0\"\n",
    ")\n",
    "\n",
    "@app.get(\"/\")\n",
    "async def root():\n",
    "    return {\"message\": \"ChatGPT API Backend funcionando desde Jupyter\"}\n",
    "\n",
    "@app.get(\"/health\")\n",
    "async def health_check():\n",
    "    return {\"status\": \"healthy\", \"service\": \"chatgpt-backend\"}\n",
    "\n",
    "@app.post(\"/ask\")\n",
    "async def ask_question(request: QuestionRequest):\n",
    "    result = ask_chatgpt(\n",
    "        question=request.question,\n",
    "        model=request.model,\n",
    "        max_tokens=request.max_tokens,\n",
    "        temperature=request.temperature\n",
    "    )\n",
    "    \n",
    "    if result:\n",
    "        return result\n",
    "    else:\n",
    "        return {\"error\": \"No se pudo obtener respuesta de ChatGPT\"}\n",
    "\n",
    "def run_server():\n",
    "    uvicorn.run(app, host=\"0.0.0.0\", port=PORT)\n",
    "\n",
    "print(\"✅ Aplicación FastAPI creada\")"
   ]
  },
  {
   "cell_type": "markdown",
   "metadata": {},
   "source": [
    "## 7. Ejecutar servidor en segundo plano"
   ]
  },
  {
   "cell_type": "code",
   "execution_count": null,
   "metadata": {},
   "outputs": [
    {
     "name": "stdout",
     "output_type": "stream",
     "text": [
      "🚀 Servidor iniciado en http://localhost:8000\n",
      "📋 Endpoints disponibles:\n",
      "   GET  http://localhost:8000/\n",
      "   GET  http://localhost:8000/health\n",
      "   POST http://localhost:8000/ask\n",
      "\n",
      "⚠️  El servidor se detendrá cuando cierres el notebook\n"
     ]
    },
    {
     "name": "stderr",
     "output_type": "stream",
     "text": [
      "INFO:     Started server process [22584]\n",
      "INFO:     Waiting for application startup.\n",
      "INFO:     Application startup complete.\n",
      "ERROR:    [Errno 10048] error while attempting to bind on address ('0.0.0.0', 8000): solo se permite un uso de cada dirección de socket (protocolo/dirección de red/puerto)\n",
      "INFO:     Waiting for application shutdown.\n",
      "INFO:     Application shutdown complete.\n"
     ]
    }
   ],
   "source": [
    "# Ejecutar el servidor en un hilo separado\n",
    "server_thread = threading.Thread(target=run_server, daemon=True)\n",
    "server_thread.start()\n",
    "\n",
    "print(f\"🚀 Servidor iniciado en http://localhost:{PORT}\")\n",
    "print(\"📋 Endpoints disponibles:\")\n",
    "print(f\"   GET  http://localhost:{PORT}/\")\n",
    "print(f\"   GET  http://localhost:{PORT}/health\")\n",
    "print(f\"   POST http://localhost:{PORT}/ask\")\n",
    "print(\"\\n⚠️  El servidor se detendrá cuando cierres el notebook\")"
   ]
  },
  {
   "cell_type": "markdown",
   "metadata": {},
   "source": [
    "## 8. Prueba del servidor desde el notebook"
   ]
  },
  {
   "cell_type": "code",
   "execution_count": 9,
   "metadata": {},
   "outputs": [
    {
     "name": "stdout",
     "output_type": "stream",
     "text": [
      "🧪 Probando servidor...\n",
      "\n",
      "✅ Health check: {'status': 'healthy', 'service': 'chatgpt-backend'}\n",
      "✅ Pregunta respondida correctamente\n",
      "📝 Respuesta: La capital de España es Madrid. Es una ciudad muy importante y con una gran riqueza cultural, histórica y artística. ¿Hay algo más en lo que pueda ayudarte?\n",
      "🔧 Modelo: gpt-3.5-turbo\n",
      "🔢 Tokens: 71\n"
     ]
    }
   ],
   "source": [
    "import requests\n",
    "import time\n",
    "\n",
    "# Esperar a que el servidor esté listo\n",
    "time.sleep(2)\n",
    "\n",
    "def test_server():\n",
    "    base_url = f\"http://localhost:{PORT}\"\n",
    "    \n",
    "    print(\"🧪 Probando servidor...\\n\")\n",
    "    \n",
    "    # Probar health check\n",
    "    try:\n",
    "        health_response = requests.get(f\"{base_url}/health\")\n",
    "        print(f\"✅ Health check: {health_response.json()}\")\n",
    "    except:\n",
    "        print(\"❌ Health check falló\")\n",
    "        return\n",
    "    \n",
    "    # Probar endpoint de pregunta\n",
    "    test_data = {\n",
    "        \"question\": \"¿Cuál es la capital de España?\",\n",
    "        \"model\": \"gpt-3.5-turbo\",\n",
    "        \"max_tokens\": 100,\n",
    "        \"temperature\": 0.7\n",
    "    }\n",
    "    \n",
    "    try:\n",
    "        response = requests.post(f\"{base_url}/ask\", json=test_data)\n",
    "        \n",
    "        if response.status_code == 200:\n",
    "            result = response.json()\n",
    "            print(f\"✅ Pregunta respondida correctamente\")\n",
    "            print(f\"📝 Respuesta: {result['answer']}\")\n",
    "            print(f\"🔧 Modelo: {result['model']}\")\n",
    "            print(f\"🔢 Tokens: {result['tokens_used']}\")\n",
    "        else:\n",
    "            print(f\"❌ Error en la petición: {response.status_code}\")\n",
    "            print(response.text)\n",
    "            \n",
    "    except Exception as e:\n",
    "        print(f\"❌ Error al conectar con el servidor: {e}\")\n",
    "\n",
    "# Ejecutar prueba\n",
    "test_server()"
   ]
  },
  {
   "cell_type": "markdown",
   "metadata": {},
   "source": [
    "## 9. Interfaz interactiva para hacer preguntas"
   ]
  },
  {
   "cell_type": "code",
   "execution_count": null,
   "metadata": {},
   "outputs": [
    {
     "data": {
      "application/vnd.jupyter.widget-view+json": {
       "model_id": "64a75eeaef33481385eaafbdae1a2a3c",
       "version_major": 2,
       "version_minor": 0
      },
      "text/plain": [
       "VBox(children=(HTML(value='<h3>🤖 Chat con ChatGPT</h3>'), Textarea(value='', description='Pregunta:', layout=L…"
      ]
     },
     "metadata": {},
     "output_type": "display_data"
    }
   ],
   "source": [
    "from IPython.display import display\n",
    "import ipywidgets as widgets\n",
    "\n",
    "def create_chat_interface():\n",
    "    \"\"\"Interfaz gráfica para hacer preguntas\"\"\"\n",
    "    \n",
    "    # Widgets\n",
    "    question_input = widgets.Textarea(\n",
    "        value='',\n",
    "        placeholder='Escribe tu pregunta aquí...',\n",
    "        description='Pregunta:',\n",
    "        layout=widgets.Layout(width='80%', height='100px')\n",
    "    )\n",
    "    \n",
    "    model_dropdown = widgets.Dropdown(\n",
    "        options=['gpt-3.5-turbo', 'gpt-4', 'gpt-4-turbo-preview'],\n",
    "        value='gpt-3.5-turbo',\n",
    "        description='Modelo:'\n",
    "    )\n",
    "    \n",
    "    ask_button = widgets.Button(\n",
    "        description='Preguntar a ChatGPT',\n",
    "        button_style='success',\n",
    "        tooltip='Hacer pregunta'\n",
    "    )\n",
    "    \n",
    "    output = widgets.Output()\n",
    "    \n",
    "    def on_ask_button_clicked(b):\n",
    "        with output:\n",
    "            output.clear_output()\n",
    "            \n",
    "            if not question_input.value.strip():\n",
    "                print(\"❌ Por favor escribe una pregunta\")\n",
    "                return\n",
    "            \n",
    "            print(\"⏳ Procesando pregunta...\")\n",
    "            \n",
    "            result = ask_chatgpt(\n",
    "                question=question_input.value,\n",
    "                model=model_dropdown.value\n",
    "            )\n",
    "            \n",
    "            if result:\n",
    "                print(\"\\n\" + \"=\"*60)\n",
    "                print(\"💬 RESPUESTA:\")\n",
    "                print(result.answer)\n",
    "                print(\"\\n📊 Información:\")\n",
    "                print(f\"   Modelo: {result.model}\")\n",
    "                print(f\"   Tokens usados: {result.tokens_used}\")\n",
    "                print(\"=\"*60)\n",
    "    \n",
    "    ask_button.on_click(on_ask_button_clicked)\n",
    "    \n",
    "    # Display interface\n",
    "    display(widgets.VBox([\n",
    "        widgets.HTML(\"<h3>🤖 Chat con ChatGPT</h3>\"),\n",
    "        question_input,\n",
    "        model_dropdown,\n",
    "        ask_button,\n",
    "        output\n",
    "    ]))\n",
    "\n",
    "# Mostrar interfaz interactiva\n",
    "create_chat_interface()"
   ]
  },
  {
   "cell_type": "markdown",
   "metadata": {},
   "source": [
    "## 10. Guardar configuración"
   ]
  },
  {
   "cell_type": "code",
   "execution_count": null,
   "metadata": {},
   "outputs": [
    {
     "name": "stdout",
     "output_type": "stream",
     "text": [
      "✅ Archivo .env creado/actualizado\n",
      "📁 El notebook está listo para usar\n"
     ]
    }
   ],
   "source": [
    "\n",
    "print(\"✅ Archivo .env creado/actualizado\")\n",
    "print(\"📁 El notebook está listo para usar\")"
   ]
  },
  {
   "cell_type": "code",
   "execution_count": null,
   "metadata": {},
   "outputs": [],
   "source": []
  }
 ],
 "metadata": {
  "kernelspec": {
   "display_name": "base",
   "language": "python",
   "name": "python3"
  },
  "language_info": {
   "codemirror_mode": {
    "name": "ipython",
    "version": 3
   },
   "file_extension": ".py",
   "mimetype": "text/x-python",
   "name": "python",
   "nbconvert_exporter": "python",
   "pygments_lexer": "ipython3",
   "version": "3.11.7"
  }
 },
 "nbformat": 4,
 "nbformat_minor": 4
}
